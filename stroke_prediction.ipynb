{
  "nbformat": 4,
  "nbformat_minor": 0,
  "metadata": {
    "colab": {
      "provenance": [],
      "collapsed_sections": []
    },
    "kernelspec": {
      "name": "python3",
      "display_name": "Python 3"
    },
    "language_info": {
      "name": "python"
    }
  },
  "cells": [
    {
      "cell_type": "markdown",
      "source": [
        "# **1. DATA PREPROCESSING**"
      ],
      "metadata": {
        "id": "RLWoHGsMnijP"
      }
    },
    {
      "cell_type": "code",
      "source": [
        "# Import libraries\n",
        "import pandas as pd\n",
        "import numpy as np\n",
        "import warnings\n",
        "import seaborn as sns\n",
        "import matplotlib.pyplot as plt\n",
        "from sklearn.preprocessing import LabelEncoder, StandardScaler\n",
        "from imblearn.over_sampling import SMOTE\n",
        "from sklearn.preprocessing import OneHotEncoder\n",
        "from sklearn.model_selection import train_test_split\n",
        "\n",
        "# Configure libraries\n",
        "warnings.filterwarnings('ignore')\n",
        "plt.rcParams['figure.figsize'] = (10, 10)\n",
        "plt.style.use('seaborn')"
      ],
      "metadata": {
        "id": "SRBV6qEZSoSx"
      },
      "execution_count": 93,
      "outputs": []
    },
    {
      "cell_type": "code",
      "source": [
        "from google.colab import drive\n",
        "import os\n",
        "\n",
        "drive.mount('/content/drive')\n",
        "directory=os.getcwd()+'/drive/MyDrive/FDM'\n",
        "dataset = directory+'/stroke_prediction_original.csv'"
      ],
      "metadata": {
        "colab": {
          "base_uri": "https://localhost:8080/"
        },
        "id": "b884717bUj9S",
        "outputId": "419964b1-b3f4-4d13-8a56-3f491b12e401"
      },
      "execution_count": 94,
      "outputs": [
        {
          "output_type": "stream",
          "name": "stdout",
          "text": [
            "Drive already mounted at /content/drive; to attempt to forcibly remount, call drive.mount(\"/content/drive\", force_remount=True).\n"
          ]
        }
      ]
    },
    {
      "cell_type": "code",
      "execution_count": 95,
      "metadata": {
        "id": "NdyviQ51NfEq",
        "colab": {
          "base_uri": "https://localhost:8080/"
        },
        "outputId": "08fbe1dd-70b0-4b8c-991e-a7313c9d1b8f"
      },
      "outputs": [
        {
          "output_type": "stream",
          "name": "stdout",
          "text": [
            "      id  gender   age  hypertension  heart_disease ever_married  \\\n",
            "0   9046    Male  67.0             0              1          Yes   \n",
            "1  51676  Female  61.0             0              0          Yes   \n",
            "2  31112    Male  80.0             0              1          Yes   \n",
            "3  60182  Female  49.0             0              0          Yes   \n",
            "4   1665  Female  79.0             1              0          Yes   \n",
            "\n",
            "       work_type Residence_type  avg_glucose_level   bmi   smoking_status  \\\n",
            "0        Private          Urban             228.69  36.6  formerly smoked   \n",
            "1  Self-employed          Rural             202.21   NaN     never smoked   \n",
            "2        Private          Rural             105.92  32.5     never smoked   \n",
            "3        Private          Urban             171.23  34.4           smokes   \n",
            "4  Self-employed          Rural             174.12  24.0     never smoked   \n",
            "\n",
            "   stroke  \n",
            "0       1  \n",
            "1       1  \n",
            "2       1  \n",
            "3       1  \n",
            "4       1  \n",
            "Data shape: (5110, 12)\n"
          ]
        }
      ],
      "source": [
        "# Load the dataset\n",
        "\n",
        "data = pd.read_csv(dataset)\n",
        "print(data.head())\n",
        "print(\"Data shape: {}\".format(data.shape))"
      ]
    },
    {
      "cell_type": "code",
      "source": [
        "data.describe()"
      ],
      "metadata": {
        "colab": {
          "base_uri": "https://localhost:8080/",
          "height": 300
        },
        "id": "8Rg4AcfjOroM",
        "outputId": "d90364b3-768a-4c93-ae56-7e2de2ed482d"
      },
      "execution_count": 96,
      "outputs": [
        {
          "output_type": "execute_result",
          "data": {
            "text/plain": [
              "                 id          age  hypertension  heart_disease  \\\n",
              "count   5110.000000  5110.000000   5110.000000    5110.000000   \n",
              "mean   36517.829354    43.226614      0.097456       0.054012   \n",
              "std    21161.721625    22.612647      0.296607       0.226063   \n",
              "min       67.000000     0.080000      0.000000       0.000000   \n",
              "25%    17741.250000    25.000000      0.000000       0.000000   \n",
              "50%    36932.000000    45.000000      0.000000       0.000000   \n",
              "75%    54682.000000    61.000000      0.000000       0.000000   \n",
              "max    72940.000000    82.000000      1.000000       1.000000   \n",
              "\n",
              "       avg_glucose_level          bmi       stroke  \n",
              "count        5110.000000  4909.000000  5110.000000  \n",
              "mean          106.147677    28.893237     0.048728  \n",
              "std            45.283560     7.854067     0.215320  \n",
              "min            55.120000    10.300000     0.000000  \n",
              "25%            77.245000    23.500000     0.000000  \n",
              "50%            91.885000    28.100000     0.000000  \n",
              "75%           114.090000    33.100000     0.000000  \n",
              "max           271.740000    97.600000     1.000000  "
            ],
            "text/html": [
              "\n",
              "  <div id=\"df-0e022e56-b5e5-41f6-90a2-bb271c82e134\">\n",
              "    <div class=\"colab-df-container\">\n",
              "      <div>\n",
              "<style scoped>\n",
              "    .dataframe tbody tr th:only-of-type {\n",
              "        vertical-align: middle;\n",
              "    }\n",
              "\n",
              "    .dataframe tbody tr th {\n",
              "        vertical-align: top;\n",
              "    }\n",
              "\n",
              "    .dataframe thead th {\n",
              "        text-align: right;\n",
              "    }\n",
              "</style>\n",
              "<table border=\"1\" class=\"dataframe\">\n",
              "  <thead>\n",
              "    <tr style=\"text-align: right;\">\n",
              "      <th></th>\n",
              "      <th>id</th>\n",
              "      <th>age</th>\n",
              "      <th>hypertension</th>\n",
              "      <th>heart_disease</th>\n",
              "      <th>avg_glucose_level</th>\n",
              "      <th>bmi</th>\n",
              "      <th>stroke</th>\n",
              "    </tr>\n",
              "  </thead>\n",
              "  <tbody>\n",
              "    <tr>\n",
              "      <th>count</th>\n",
              "      <td>5110.000000</td>\n",
              "      <td>5110.000000</td>\n",
              "      <td>5110.000000</td>\n",
              "      <td>5110.000000</td>\n",
              "      <td>5110.000000</td>\n",
              "      <td>4909.000000</td>\n",
              "      <td>5110.000000</td>\n",
              "    </tr>\n",
              "    <tr>\n",
              "      <th>mean</th>\n",
              "      <td>36517.829354</td>\n",
              "      <td>43.226614</td>\n",
              "      <td>0.097456</td>\n",
              "      <td>0.054012</td>\n",
              "      <td>106.147677</td>\n",
              "      <td>28.893237</td>\n",
              "      <td>0.048728</td>\n",
              "    </tr>\n",
              "    <tr>\n",
              "      <th>std</th>\n",
              "      <td>21161.721625</td>\n",
              "      <td>22.612647</td>\n",
              "      <td>0.296607</td>\n",
              "      <td>0.226063</td>\n",
              "      <td>45.283560</td>\n",
              "      <td>7.854067</td>\n",
              "      <td>0.215320</td>\n",
              "    </tr>\n",
              "    <tr>\n",
              "      <th>min</th>\n",
              "      <td>67.000000</td>\n",
              "      <td>0.080000</td>\n",
              "      <td>0.000000</td>\n",
              "      <td>0.000000</td>\n",
              "      <td>55.120000</td>\n",
              "      <td>10.300000</td>\n",
              "      <td>0.000000</td>\n",
              "    </tr>\n",
              "    <tr>\n",
              "      <th>25%</th>\n",
              "      <td>17741.250000</td>\n",
              "      <td>25.000000</td>\n",
              "      <td>0.000000</td>\n",
              "      <td>0.000000</td>\n",
              "      <td>77.245000</td>\n",
              "      <td>23.500000</td>\n",
              "      <td>0.000000</td>\n",
              "    </tr>\n",
              "    <tr>\n",
              "      <th>50%</th>\n",
              "      <td>36932.000000</td>\n",
              "      <td>45.000000</td>\n",
              "      <td>0.000000</td>\n",
              "      <td>0.000000</td>\n",
              "      <td>91.885000</td>\n",
              "      <td>28.100000</td>\n",
              "      <td>0.000000</td>\n",
              "    </tr>\n",
              "    <tr>\n",
              "      <th>75%</th>\n",
              "      <td>54682.000000</td>\n",
              "      <td>61.000000</td>\n",
              "      <td>0.000000</td>\n",
              "      <td>0.000000</td>\n",
              "      <td>114.090000</td>\n",
              "      <td>33.100000</td>\n",
              "      <td>0.000000</td>\n",
              "    </tr>\n",
              "    <tr>\n",
              "      <th>max</th>\n",
              "      <td>72940.000000</td>\n",
              "      <td>82.000000</td>\n",
              "      <td>1.000000</td>\n",
              "      <td>1.000000</td>\n",
              "      <td>271.740000</td>\n",
              "      <td>97.600000</td>\n",
              "      <td>1.000000</td>\n",
              "    </tr>\n",
              "  </tbody>\n",
              "</table>\n",
              "</div>\n",
              "      <button class=\"colab-df-convert\" onclick=\"convertToInteractive('df-0e022e56-b5e5-41f6-90a2-bb271c82e134')\"\n",
              "              title=\"Convert this dataframe to an interactive table.\"\n",
              "              style=\"display:none;\">\n",
              "        \n",
              "  <svg xmlns=\"http://www.w3.org/2000/svg\" height=\"24px\"viewBox=\"0 0 24 24\"\n",
              "       width=\"24px\">\n",
              "    <path d=\"M0 0h24v24H0V0z\" fill=\"none\"/>\n",
              "    <path d=\"M18.56 5.44l.94 2.06.94-2.06 2.06-.94-2.06-.94-.94-2.06-.94 2.06-2.06.94zm-11 1L8.5 8.5l.94-2.06 2.06-.94-2.06-.94L8.5 2.5l-.94 2.06-2.06.94zm10 10l.94 2.06.94-2.06 2.06-.94-2.06-.94-.94-2.06-.94 2.06-2.06.94z\"/><path d=\"M17.41 7.96l-1.37-1.37c-.4-.4-.92-.59-1.43-.59-.52 0-1.04.2-1.43.59L10.3 9.45l-7.72 7.72c-.78.78-.78 2.05 0 2.83L4 21.41c.39.39.9.59 1.41.59.51 0 1.02-.2 1.41-.59l7.78-7.78 2.81-2.81c.8-.78.8-2.07 0-2.86zM5.41 20L4 18.59l7.72-7.72 1.47 1.35L5.41 20z\"/>\n",
              "  </svg>\n",
              "      </button>\n",
              "      \n",
              "  <style>\n",
              "    .colab-df-container {\n",
              "      display:flex;\n",
              "      flex-wrap:wrap;\n",
              "      gap: 12px;\n",
              "    }\n",
              "\n",
              "    .colab-df-convert {\n",
              "      background-color: #E8F0FE;\n",
              "      border: none;\n",
              "      border-radius: 50%;\n",
              "      cursor: pointer;\n",
              "      display: none;\n",
              "      fill: #1967D2;\n",
              "      height: 32px;\n",
              "      padding: 0 0 0 0;\n",
              "      width: 32px;\n",
              "    }\n",
              "\n",
              "    .colab-df-convert:hover {\n",
              "      background-color: #E2EBFA;\n",
              "      box-shadow: 0px 1px 2px rgba(60, 64, 67, 0.3), 0px 1px 3px 1px rgba(60, 64, 67, 0.15);\n",
              "      fill: #174EA6;\n",
              "    }\n",
              "\n",
              "    [theme=dark] .colab-df-convert {\n",
              "      background-color: #3B4455;\n",
              "      fill: #D2E3FC;\n",
              "    }\n",
              "\n",
              "    [theme=dark] .colab-df-convert:hover {\n",
              "      background-color: #434B5C;\n",
              "      box-shadow: 0px 1px 3px 1px rgba(0, 0, 0, 0.15);\n",
              "      filter: drop-shadow(0px 1px 2px rgba(0, 0, 0, 0.3));\n",
              "      fill: #FFFFFF;\n",
              "    }\n",
              "  </style>\n",
              "\n",
              "      <script>\n",
              "        const buttonEl =\n",
              "          document.querySelector('#df-0e022e56-b5e5-41f6-90a2-bb271c82e134 button.colab-df-convert');\n",
              "        buttonEl.style.display =\n",
              "          google.colab.kernel.accessAllowed ? 'block' : 'none';\n",
              "\n",
              "        async function convertToInteractive(key) {\n",
              "          const element = document.querySelector('#df-0e022e56-b5e5-41f6-90a2-bb271c82e134');\n",
              "          const dataTable =\n",
              "            await google.colab.kernel.invokeFunction('convertToInteractive',\n",
              "                                                     [key], {});\n",
              "          if (!dataTable) return;\n",
              "\n",
              "          const docLinkHtml = 'Like what you see? Visit the ' +\n",
              "            '<a target=\"_blank\" href=https://colab.research.google.com/notebooks/data_table.ipynb>data table notebook</a>'\n",
              "            + ' to learn more about interactive tables.';\n",
              "          element.innerHTML = '';\n",
              "          dataTable['output_type'] = 'display_data';\n",
              "          await google.colab.output.renderOutput(dataTable, element);\n",
              "          const docLink = document.createElement('div');\n",
              "          docLink.innerHTML = docLinkHtml;\n",
              "          element.appendChild(docLink);\n",
              "        }\n",
              "      </script>\n",
              "    </div>\n",
              "  </div>\n",
              "  "
            ]
          },
          "metadata": {},
          "execution_count": 96
        }
      ]
    },
    {
      "cell_type": "code",
      "source": [
        "# Check how many missing values exist in each variable.\n",
        "\n",
        "miss_val = data.isnull().sum()/len(data)*100\n",
        "print(miss_val)\n",
        "print(\"# Missing values in variable bmi\\t\\t: {:.2f}%\".format(miss_val['bmi']))\n",
        "print(\"Data shape: {}\".format(data.shape))"
      ],
      "metadata": {
        "colab": {
          "base_uri": "https://localhost:8080/"
        },
        "id": "5wCqkYs6O6is",
        "outputId": "0d229235-02b1-46dd-95f7-6ae9c5e73508"
      },
      "execution_count": 97,
      "outputs": [
        {
          "output_type": "stream",
          "name": "stdout",
          "text": [
            "id                   0.000000\n",
            "gender               0.000000\n",
            "age                  0.000000\n",
            "hypertension         0.000000\n",
            "heart_disease        0.000000\n",
            "ever_married         0.000000\n",
            "work_type            0.000000\n",
            "Residence_type       0.000000\n",
            "avg_glucose_level    0.000000\n",
            "bmi                  3.933464\n",
            "smoking_status       0.000000\n",
            "stroke               0.000000\n",
            "dtype: float64\n",
            "# Missing values in variable bmi\t\t: 3.93%\n",
            "Data shape: (5110, 12)\n"
          ]
        }
      ]
    },
    {
      "cell_type": "code",
      "source": [
        "# Handling Missing Values\n",
        "# Replace missing values in variable 'bmi' with its mean\n",
        "\n",
        "clean_data = data['bmi']=data['bmi'].fillna(data['bmi'].mean())\n",
        "\n",
        "miss_val = data.isnull().sum()/len(data)*100\n",
        "print(miss_val)\n",
        "print(\"# Missing values in variable bmi\\t\\t: {:.2f}%\".format(miss_val['bmi']))\n",
        "print(\"Data shape: {}\".format(data.shape))"
      ],
      "metadata": {
        "colab": {
          "base_uri": "https://localhost:8080/"
        },
        "id": "BB4rClJsPXfd",
        "outputId": "9b868d43-1219-4cec-9206-598ec6524b41"
      },
      "execution_count": 98,
      "outputs": [
        {
          "output_type": "stream",
          "name": "stdout",
          "text": [
            "id                   0.0\n",
            "gender               0.0\n",
            "age                  0.0\n",
            "hypertension         0.0\n",
            "heart_disease        0.0\n",
            "ever_married         0.0\n",
            "work_type            0.0\n",
            "Residence_type       0.0\n",
            "avg_glucose_level    0.0\n",
            "bmi                  0.0\n",
            "smoking_status       0.0\n",
            "stroke               0.0\n",
            "dtype: float64\n",
            "# Missing values in variable bmi\t\t: 0.00%\n",
            "Data shape: (5110, 12)\n"
          ]
        }
      ]
    },
    {
      "cell_type": "code",
      "source": [
        "# Drop 'id' column\n",
        "\n",
        "clean_data = data.drop('id', axis=1)"
      ],
      "metadata": {
        "id": "SxGxl5_ONQ03"
      },
      "execution_count": 99,
      "outputs": []
    },
    {
      "cell_type": "code",
      "source": [
        "# Fixing attribute names\n",
        "\n",
        "data.loc[data['work_type'] == 'Private', 'work_type'] = 'Private Sector'\n",
        "data.loc[data['work_type'] == 'children', 'work_type'] = 'Children'\n",
        "data.loc[data['work_type'] == 'Govt_job', 'work_type'] = 'Government Sector'\n",
        "data.loc[data['work_type'] == 'Never_worked', 'work_type'] = 'Never Worked'\n",
        "\n",
        "data.loc[data['smoking_status'] == 'never smoked', 'smoking_status'] = 'Never Smoked'\n",
        "data.loc[data['smoking_status'] == 'formerly smoked', 'smoking_status'] = 'Formerly Smoked'\n",
        "data.loc[data['smoking_status'] == 'smokes', 'smoking_status'] = 'Smokes'\n",
        "\n",
        "data.head()"
      ],
      "metadata": {
        "colab": {
          "base_uri": "https://localhost:8080/",
          "height": 206
        },
        "id": "yg5HzluQY6-k",
        "outputId": "359ecb73-3b3b-4728-a11d-3bc658416b66"
      },
      "execution_count": 100,
      "outputs": [
        {
          "output_type": "execute_result",
          "data": {
            "text/plain": [
              "      id  gender   age  hypertension  heart_disease ever_married  \\\n",
              "0   9046    Male  67.0             0              1          Yes   \n",
              "1  51676  Female  61.0             0              0          Yes   \n",
              "2  31112    Male  80.0             0              1          Yes   \n",
              "3  60182  Female  49.0             0              0          Yes   \n",
              "4   1665  Female  79.0             1              0          Yes   \n",
              "\n",
              "        work_type Residence_type  avg_glucose_level        bmi  \\\n",
              "0  Private Sector          Urban             228.69  36.600000   \n",
              "1   Self-employed          Rural             202.21  28.893237   \n",
              "2  Private Sector          Rural             105.92  32.500000   \n",
              "3  Private Sector          Urban             171.23  34.400000   \n",
              "4   Self-employed          Rural             174.12  24.000000   \n",
              "\n",
              "    smoking_status  stroke  \n",
              "0  Formerly Smoked       1  \n",
              "1     Never Smoked       1  \n",
              "2     Never Smoked       1  \n",
              "3           Smokes       1  \n",
              "4     Never Smoked       1  "
            ],
            "text/html": [
              "\n",
              "  <div id=\"df-f31f88cf-645f-4439-8af0-69f5247599b1\">\n",
              "    <div class=\"colab-df-container\">\n",
              "      <div>\n",
              "<style scoped>\n",
              "    .dataframe tbody tr th:only-of-type {\n",
              "        vertical-align: middle;\n",
              "    }\n",
              "\n",
              "    .dataframe tbody tr th {\n",
              "        vertical-align: top;\n",
              "    }\n",
              "\n",
              "    .dataframe thead th {\n",
              "        text-align: right;\n",
              "    }\n",
              "</style>\n",
              "<table border=\"1\" class=\"dataframe\">\n",
              "  <thead>\n",
              "    <tr style=\"text-align: right;\">\n",
              "      <th></th>\n",
              "      <th>id</th>\n",
              "      <th>gender</th>\n",
              "      <th>age</th>\n",
              "      <th>hypertension</th>\n",
              "      <th>heart_disease</th>\n",
              "      <th>ever_married</th>\n",
              "      <th>work_type</th>\n",
              "      <th>Residence_type</th>\n",
              "      <th>avg_glucose_level</th>\n",
              "      <th>bmi</th>\n",
              "      <th>smoking_status</th>\n",
              "      <th>stroke</th>\n",
              "    </tr>\n",
              "  </thead>\n",
              "  <tbody>\n",
              "    <tr>\n",
              "      <th>0</th>\n",
              "      <td>9046</td>\n",
              "      <td>Male</td>\n",
              "      <td>67.0</td>\n",
              "      <td>0</td>\n",
              "      <td>1</td>\n",
              "      <td>Yes</td>\n",
              "      <td>Private Sector</td>\n",
              "      <td>Urban</td>\n",
              "      <td>228.69</td>\n",
              "      <td>36.600000</td>\n",
              "      <td>Formerly Smoked</td>\n",
              "      <td>1</td>\n",
              "    </tr>\n",
              "    <tr>\n",
              "      <th>1</th>\n",
              "      <td>51676</td>\n",
              "      <td>Female</td>\n",
              "      <td>61.0</td>\n",
              "      <td>0</td>\n",
              "      <td>0</td>\n",
              "      <td>Yes</td>\n",
              "      <td>Self-employed</td>\n",
              "      <td>Rural</td>\n",
              "      <td>202.21</td>\n",
              "      <td>28.893237</td>\n",
              "      <td>Never Smoked</td>\n",
              "      <td>1</td>\n",
              "    </tr>\n",
              "    <tr>\n",
              "      <th>2</th>\n",
              "      <td>31112</td>\n",
              "      <td>Male</td>\n",
              "      <td>80.0</td>\n",
              "      <td>0</td>\n",
              "      <td>1</td>\n",
              "      <td>Yes</td>\n",
              "      <td>Private Sector</td>\n",
              "      <td>Rural</td>\n",
              "      <td>105.92</td>\n",
              "      <td>32.500000</td>\n",
              "      <td>Never Smoked</td>\n",
              "      <td>1</td>\n",
              "    </tr>\n",
              "    <tr>\n",
              "      <th>3</th>\n",
              "      <td>60182</td>\n",
              "      <td>Female</td>\n",
              "      <td>49.0</td>\n",
              "      <td>0</td>\n",
              "      <td>0</td>\n",
              "      <td>Yes</td>\n",
              "      <td>Private Sector</td>\n",
              "      <td>Urban</td>\n",
              "      <td>171.23</td>\n",
              "      <td>34.400000</td>\n",
              "      <td>Smokes</td>\n",
              "      <td>1</td>\n",
              "    </tr>\n",
              "    <tr>\n",
              "      <th>4</th>\n",
              "      <td>1665</td>\n",
              "      <td>Female</td>\n",
              "      <td>79.0</td>\n",
              "      <td>1</td>\n",
              "      <td>0</td>\n",
              "      <td>Yes</td>\n",
              "      <td>Self-employed</td>\n",
              "      <td>Rural</td>\n",
              "      <td>174.12</td>\n",
              "      <td>24.000000</td>\n",
              "      <td>Never Smoked</td>\n",
              "      <td>1</td>\n",
              "    </tr>\n",
              "  </tbody>\n",
              "</table>\n",
              "</div>\n",
              "      <button class=\"colab-df-convert\" onclick=\"convertToInteractive('df-f31f88cf-645f-4439-8af0-69f5247599b1')\"\n",
              "              title=\"Convert this dataframe to an interactive table.\"\n",
              "              style=\"display:none;\">\n",
              "        \n",
              "  <svg xmlns=\"http://www.w3.org/2000/svg\" height=\"24px\"viewBox=\"0 0 24 24\"\n",
              "       width=\"24px\">\n",
              "    <path d=\"M0 0h24v24H0V0z\" fill=\"none\"/>\n",
              "    <path d=\"M18.56 5.44l.94 2.06.94-2.06 2.06-.94-2.06-.94-.94-2.06-.94 2.06-2.06.94zm-11 1L8.5 8.5l.94-2.06 2.06-.94-2.06-.94L8.5 2.5l-.94 2.06-2.06.94zm10 10l.94 2.06.94-2.06 2.06-.94-2.06-.94-.94-2.06-.94 2.06-2.06.94z\"/><path d=\"M17.41 7.96l-1.37-1.37c-.4-.4-.92-.59-1.43-.59-.52 0-1.04.2-1.43.59L10.3 9.45l-7.72 7.72c-.78.78-.78 2.05 0 2.83L4 21.41c.39.39.9.59 1.41.59.51 0 1.02-.2 1.41-.59l7.78-7.78 2.81-2.81c.8-.78.8-2.07 0-2.86zM5.41 20L4 18.59l7.72-7.72 1.47 1.35L5.41 20z\"/>\n",
              "  </svg>\n",
              "      </button>\n",
              "      \n",
              "  <style>\n",
              "    .colab-df-container {\n",
              "      display:flex;\n",
              "      flex-wrap:wrap;\n",
              "      gap: 12px;\n",
              "    }\n",
              "\n",
              "    .colab-df-convert {\n",
              "      background-color: #E8F0FE;\n",
              "      border: none;\n",
              "      border-radius: 50%;\n",
              "      cursor: pointer;\n",
              "      display: none;\n",
              "      fill: #1967D2;\n",
              "      height: 32px;\n",
              "      padding: 0 0 0 0;\n",
              "      width: 32px;\n",
              "    }\n",
              "\n",
              "    .colab-df-convert:hover {\n",
              "      background-color: #E2EBFA;\n",
              "      box-shadow: 0px 1px 2px rgba(60, 64, 67, 0.3), 0px 1px 3px 1px rgba(60, 64, 67, 0.15);\n",
              "      fill: #174EA6;\n",
              "    }\n",
              "\n",
              "    [theme=dark] .colab-df-convert {\n",
              "      background-color: #3B4455;\n",
              "      fill: #D2E3FC;\n",
              "    }\n",
              "\n",
              "    [theme=dark] .colab-df-convert:hover {\n",
              "      background-color: #434B5C;\n",
              "      box-shadow: 0px 1px 3px 1px rgba(0, 0, 0, 0.15);\n",
              "      filter: drop-shadow(0px 1px 2px rgba(0, 0, 0, 0.3));\n",
              "      fill: #FFFFFF;\n",
              "    }\n",
              "  </style>\n",
              "\n",
              "      <script>\n",
              "        const buttonEl =\n",
              "          document.querySelector('#df-f31f88cf-645f-4439-8af0-69f5247599b1 button.colab-df-convert');\n",
              "        buttonEl.style.display =\n",
              "          google.colab.kernel.accessAllowed ? 'block' : 'none';\n",
              "\n",
              "        async function convertToInteractive(key) {\n",
              "          const element = document.querySelector('#df-f31f88cf-645f-4439-8af0-69f5247599b1');\n",
              "          const dataTable =\n",
              "            await google.colab.kernel.invokeFunction('convertToInteractive',\n",
              "                                                     [key], {});\n",
              "          if (!dataTable) return;\n",
              "\n",
              "          const docLinkHtml = 'Like what you see? Visit the ' +\n",
              "            '<a target=\"_blank\" href=https://colab.research.google.com/notebooks/data_table.ipynb>data table notebook</a>'\n",
              "            + ' to learn more about interactive tables.';\n",
              "          element.innerHTML = '';\n",
              "          dataTable['output_type'] = 'display_data';\n",
              "          await google.colab.output.renderOutput(dataTable, element);\n",
              "          const docLink = document.createElement('div');\n",
              "          docLink.innerHTML = docLinkHtml;\n",
              "          element.appendChild(docLink);\n",
              "        }\n",
              "      </script>\n",
              "    </div>\n",
              "  </div>\n",
              "  "
            ]
          },
          "metadata": {},
          "execution_count": 100
        }
      ]
    },
    {
      "cell_type": "code",
      "source": [
        "# Get the unique values of each categorical attribute\n",
        "\n",
        "print(\"Unique 'gender': {}\".format(clean_data['gender'].unique()))\n",
        "print(\"Unique 'ever_married': {}\".format(clean_data['ever_married'].unique()))\n",
        "# print(\"Unique 'marital_status': {}\".format(clean_data['marital_status'].unique()))\n",
        "print(\"Unique 'work_type': {}\".format(clean_data['work_type'].unique()))\n",
        "print(\"Unique 'Residence_type': {}\".format(clean_data['Residence_type'].unique()))\n",
        "# print(\"Unique 'residence_type': {}\".format(clean_data['residence_type'].unique()))\n",
        "print(\"Unique 'smoking_status': {}\".format(clean_data['smoking_status'].unique()))"
      ],
      "metadata": {
        "colab": {
          "base_uri": "https://localhost:8080/"
        },
        "id": "cerqOg_AQk9c",
        "outputId": "620f2bf4-0134-418b-f5cb-e2649601104a"
      },
      "execution_count": 101,
      "outputs": [
        {
          "output_type": "stream",
          "name": "stdout",
          "text": [
            "Unique 'gender': ['Male' 'Female' 'Other']\n",
            "Unique 'ever_married': ['Yes' 'No']\n",
            "Unique 'work_type': ['Private' 'Self-employed' 'Govt_job' 'children' 'Never_worked']\n",
            "Unique 'Residence_type': ['Urban' 'Rural']\n",
            "Unique 'smoking_status': ['formerly smoked' 'never smoked' 'smokes' 'Unknown']\n"
          ]
        }
      ]
    },
    {
      "cell_type": "code",
      "source": [
        "# Create encoder for each categorical variable\n",
        "\n",
        "label_gender = LabelEncoder()\n",
        "label_married = LabelEncoder()\n",
        "label_work = LabelEncoder()\n",
        "label_residence = LabelEncoder()\n",
        "label_smoking = LabelEncoder()"
      ],
      "metadata": {
        "id": "9eTZAH-HRuEs"
      },
      "execution_count": 102,
      "outputs": []
    },
    {
      "cell_type": "code",
      "source": [
        "# Changing Categorical values to Numerical values\n",
        "\n",
        "clean_data['gender'] = label_gender.fit_transform(clean_data['gender'])\n",
        "clean_data['ever_married'] = label_married.fit_transform(clean_data['ever_married'])\n",
        "# clean_data['marital_status'] = label_married.fit_transform(clean_data['marital_status'])\n",
        "clean_data['work_type']= label_work.fit_transform(clean_data['work_type'])\n",
        "clean_data['Residence_type']= label_residence.fit_transform(clean_data['Residence_type'])\n",
        "# clean_data['residence_type']= label_residence.fit_transform(clean_data['residence_type'])\n",
        "clean_data['smoking_status']= label_smoking.fit_transform(clean_data['smoking_status'])\n",
        "with pd.option_context('expand_frame_repr', False):\n",
        "    print(clean_data.head())"
      ],
      "metadata": {
        "colab": {
          "base_uri": "https://localhost:8080/"
        },
        "id": "PcVYrYR3SAKE",
        "outputId": "ea45ad1e-293d-4d8b-8f6a-39562534dc05"
      },
      "execution_count": 103,
      "outputs": [
        {
          "output_type": "stream",
          "name": "stdout",
          "text": [
            "   gender   age  hypertension  heart_disease  ever_married  work_type  Residence_type  avg_glucose_level        bmi  smoking_status  stroke\n",
            "0       1  67.0             0              1             1          2               1             228.69  36.600000               1       1\n",
            "1       0  61.0             0              0             1          3               0             202.21  28.893237               2       1\n",
            "2       1  80.0             0              1             1          2               0             105.92  32.500000               2       1\n",
            "3       0  49.0             0              0             1          2               1             171.23  34.400000               3       1\n",
            "4       0  79.0             1              0             1          3               0             174.12  24.000000               2       1\n"
          ]
        }
      ]
    },
    {
      "cell_type": "code",
      "source": [
        "# Inter-feature Correlation\n",
        "\n",
        "fig, ax = plt.subplots(figsize=(8,6))\n",
        "im = ax.matshow(clean_data.corr())\n",
        "ax.set_xticks(np.arange(clean_data.shape[1]))\n",
        "ax.set_yticks(np.arange(clean_data.shape[1]))\n",
        "ax.set_xticklabels(clean_data.columns,rotation=90)\n",
        "ax.set_yticklabels(clean_data.columns)\n",
        "# Create colorbar\n",
        "cbar = ax.figure.colorbar(im, ax=ax)\n",
        "cbar.ax.set_ylabel(\"Correlation\", rotation=-90, va=\"bottom\", fontsize=12)\n",
        "fig.tight_layout()\n",
        "plt.show()"
      ],
      "metadata": {
        "colab": {
          "base_uri": "https://localhost:8080/",
          "height": 441
        },
        "id": "HCpu7I93SUGR",
        "outputId": "c0d018be-4c44-4a03-e3ff-a1db0b45fcf0"
      },
      "execution_count": 104,
      "outputs": [
        {
          "output_type": "display_data",
          "data": {
            "text/plain": [
              "<Figure size 576x432 with 2 Axes>"
            ],
            "image/png": "[encoded data removed]"
          },
          "metadata": {}
        }
      ]
    },
    {
      "cell_type": "code",
      "source": [
        "# Histogram of Features\n",
        "\n",
        "fig = clean_data.hist(figsize=(10,8))\n",
        "plt.tight_layout()\n",
        "plt.show()"
      ],
      "metadata": {
        "colab": {
          "base_uri": "https://localhost:8080/",
          "height": 585
        },
        "id": "43hbxClnSeZT",
        "outputId": "ba77fe30-c2e1-4d5d-f0b2-aa3932ca03ee"
      },
      "execution_count": 105,
      "outputs": [
        {
          "output_type": "display_data",
          "data": {
            "text/plain": [
              "<Figure size 720x576 with 12 Axes>"
            ],
            "image/png": "[encoded data removed]"
          },
          "metadata": {}
        }
      ]
    },
    {
      "cell_type": "code",
      "source": [
        "# Class (Target) Distribution\n",
        "\n",
        "class_occur = clean_data['stroke'].value_counts()\n",
        "class_names = ['No Stroke','Stroke']\n",
        "fig, ax = plt.subplots()\n",
        "ax.pie(class_occur, labels=class_names, autopct='%1.2f%%',\n",
        "        shadow=True, startangle=0, counterclock=False)\n",
        "ax.axis('equal')  # Equal aspect ratio ensures that pie is drawn as a circle.\n",
        "ax.set_title('Class distribution')\n",
        "plt.show()\n",
        "print(\"# samples associated with no stroke: {}\".format(class_occur[0]))\n",
        "print(\"# samples associated with stroke: {}\".format(class_occur[1]))"
      ],
      "metadata": {
        "colab": {
          "base_uri": "https://localhost:8080/",
          "height": 380
        },
        "id": "5MMRJw23SqGD",
        "outputId": "4c094cd3-9e58-4fb5-cba3-44e334a95407"
      },
      "execution_count": 106,
      "outputs": [
        {
          "output_type": "display_data",
          "data": {
            "text/plain": [
              "<Figure size 576x396 with 1 Axes>"
            ],
            "image/png": "[encoded data removed]"
          },
          "metadata": {}
        },
        {
          "output_type": "stream",
          "name": "stdout",
          "text": [
            "# samples associated with no stroke: 4861\n",
            "# samples associated with stroke: 249\n"
          ]
        }
      ]
    },
    {
      "cell_type": "code",
      "source": [
        "# Handle Imbalanced Classes\n",
        "\n",
        "# create the  object with the desired sampling strategy.\n",
        "smote = SMOTE(sampling_strategy='minority')\n",
        "\n",
        "# fit the object to our training data\n",
        "X, y = smote.fit_resample(clean_data.loc[:,clean_data.columns!='stroke'], clean_data['stroke'])\n",
        "print(\"Shape of X: {}\".format(X.shape))\n",
        "print(\"Shape of y: {}\".format(y.shape))"
      ],
      "metadata": {
        "colab": {
          "base_uri": "https://localhost:8080/"
        },
        "id": "NnmxT_CYUkKN",
        "outputId": "e45f5eb0-f777-43d3-dddf-7eeb6d69821a"
      },
      "execution_count": 107,
      "outputs": [
        {
          "output_type": "stream",
          "name": "stdout",
          "text": [
            "Shape of X: (9722, 10)\n",
            "Shape of y: (9722,)\n"
          ]
        }
      ]
    },
    {
      "cell_type": "code",
      "source": [
        "_, class_counts = np.unique(y, return_counts=True)\n",
        "class_names = ['No stroke', 'Stroke']\n",
        "fig, ax = plt.subplots()\n",
        "ax.pie(class_counts, labels=class_names, autopct='%1.2f%%',\n",
        "        shadow=True, startangle=90, counterclock=False)\n",
        "ax.axis('equal')  # Equal aspect ratio ensures that pie is drawn as a circle.\n",
        "ax.set_title('Class distribution')\n",
        "plt.show()\n",
        "print(\"# samples associated with no stroke: {}\".format(class_counts[0]))\n",
        "print(\"# samples associated with stroke: {}\".format(class_counts[1]))"
      ],
      "metadata": {
        "colab": {
          "base_uri": "https://localhost:8080/",
          "height": 380
        },
        "id": "ibM2buY5U1XD",
        "outputId": "5d74e9e5-ace1-4bec-fdc6-f2062ede0536"
      },
      "execution_count": 108,
      "outputs": [
        {
          "output_type": "display_data",
          "data": {
            "text/plain": [
              "<Figure size 576x396 with 1 Axes>"
            ],
            "image/png": "[encoded data removed]"
          },
          "metadata": {}
        },
        {
          "output_type": "stream",
          "name": "stdout",
          "text": [
            "# samples associated with no stroke: 4861\n",
            "# samples associated with stroke: 4861\n"
          ]
        }
      ]
    },
    {
      "cell_type": "code",
      "source": [
        "# Save the pre-processed dataset\n",
        "\n",
        "clean_data.to_csv('stroke_prediction_preprocessed.csv')"
      ],
      "metadata": {
        "id": "SRXmVXzgaVhc"
      },
      "execution_count": 109,
      "outputs": []
    },
    {
      "cell_type": "code",
      "source": [
        "# Data splitting\n",
        "\n",
        "def split_train_test(X,y,test_size=0.3,random_state=None):\n",
        "    X_train, X_test, y_train, y_test = train_test_split(X,y,test_size=test_size, random_state=random_state, stratify=y)\n",
        "    return X_train, X_test, y_train, y_test\n",
        "\n",
        "X_train, X_test, y_train, y_test = split_train_test(X,y,test_size=0.3,random_state=42)\n",
        "_, train_counts = np.unique(y_train, return_counts=True)\n",
        "_, test_counts = np.unique(y_test, return_counts=True)\n",
        "print(\"[train] # class 0: {} | # class 1: {}\".format(train_counts[0],train_counts[1]))\n",
        "print(\"[test]  # class 0: {} | # class 1: {}\".format(test_counts[0],test_counts[1]))"
      ],
      "metadata": {
        "colab": {
          "base_uri": "https://localhost:8080/"
        },
        "id": "KyD3QIGnV2tM",
        "outputId": "4f78a3a8-7821-46ab-881f-d67d659754f4"
      },
      "execution_count": 110,
      "outputs": [
        {
          "output_type": "stream",
          "name": "stdout",
          "text": [
            "[train] # class 0: 3402 | # class 1: 3403\n",
            "[test]  # class 0: 1459 | # class 1: 1458\n"
          ]
        }
      ]
    },
    {
      "cell_type": "code",
      "source": [
        "# Data Normalization\n",
        "\n",
        "scaler = StandardScaler()\n",
        "scaler = scaler.fit(X_train)\n",
        "\n",
        "X_train_std = scaler.transform(X_train)\n",
        "X_test_std = scaler.transform(X_test)"
      ],
      "metadata": {
        "id": "bk8DpdIpXSoc"
      },
      "execution_count": 111,
      "outputs": []
    },
    {
      "cell_type": "markdown",
      "source": [
        "# **2. MODELLING**"
      ],
      "metadata": {
        "id": "UyIYIoe_3abo"
      }
    },
    {
      "cell_type": "code",
      "source": [
        "#function to evaluate a model\n",
        "def evaluate_model(model, X_test, y_test):\n",
        "    from sklearn import metrics\n",
        "\n",
        "    # Predict Test Data \n",
        "    y_pred = model.predict(X_test)\n",
        "\n",
        "    # Calculate accuracy, precision, recall, f1-score, and kappa score\n",
        "    acc = metrics.accuracy_score(y_test, y_pred)\n",
        "    prec = metrics.precision_score(y_test, y_pred)\n",
        "    rec = metrics.recall_score(y_test, y_pred)\n",
        "    f1 = metrics.f1_score(y_test, y_pred)\n",
        "    kappa = metrics.cohen_kappa_score(y_test, y_pred)\n",
        "\n",
        "    # Calculate area under curve (AUC)\n",
        "    y_pred_proba = model.predict_proba(X_test)[::,1]\n",
        "    fpr, tpr, _ = metrics.roc_curve(y_test, y_pred_proba)\n",
        "    auc = metrics.roc_auc_score(y_test, y_pred_proba)\n",
        "\n",
        "    # Display confussion matrix\n",
        "    cm = metrics.confusion_matrix(y_test, y_pred)\n",
        "\n",
        "    return {'acc': acc, 'prec': prec, 'rec': rec, 'f1': f1, 'kappa': kappa, \n",
        "            'fpr': fpr, 'tpr': tpr, 'auc': auc, 'cm': cm}"
      ],
      "metadata": {
        "id": "lgPuBpCNbmvL"
      },
      "execution_count": 112,
      "outputs": []
    },
    {
      "cell_type": "markdown",
      "source": [
        "##**I. Random Forest**"
      ],
      "metadata": {
        "id": "SIje9HQuZ0fa"
      }
    },
    {
      "cell_type": "code",
      "source": [
        "from sklearn.ensemble import RandomForestClassifier\n",
        "\n",
        "# Building Random Forest model \n",
        "rf = RandomForestClassifier(random_state=0)\n",
        "rf.fit(X_train, y_train)"
      ],
      "metadata": {
        "id": "xIFudJgD3eYQ",
        "colab": {
          "base_uri": "https://localhost:8080/"
        },
        "outputId": "df080816-b499-44ff-cb47-85d32d37444d"
      },
      "execution_count": 113,
      "outputs": [
        {
          "output_type": "execute_result",
          "data": {
            "text/plain": [
              "RandomForestClassifier(random_state=0)"
            ]
          },
          "metadata": {},
          "execution_count": 113
        }
      ]
    },
    {
      "cell_type": "code",
      "source": [
        "# Evaluating the Random Forest Model\n",
        "rf_eval = evaluate_model(rf, X_test, y_test)\n",
        "\n",
        "# Print result\n",
        "print('Accuracy:', rf_eval['acc'])\n",
        "print('Precision:', rf_eval['prec'])\n",
        "print('Recall:', rf_eval['rec'])\n",
        "print('F1 Score:', rf_eval['f1'])\n",
        "print('Area Under Curve:', rf_eval['auc'])\n",
        "print('Confusion Matrix:\\n', rf_eval['cm'])"
      ],
      "metadata": {
        "colab": {
          "base_uri": "https://localhost:8080/"
        },
        "id": "T5MXcM1DakEb",
        "outputId": "591f28f4-2409-4b92-bb01-171e509f863a"
      },
      "execution_count": 114,
      "outputs": [
        {
          "output_type": "stream",
          "name": "stdout",
          "text": [
            "Accuracy: 0.9400068563592733\n",
            "Precision: 0.9190071848465056\n",
            "Recall: 0.9650205761316872\n",
            "F1 Score: 0.9414519906323185\n",
            "Area Under Curve: 0.9871463815248244\n",
            "Confusion Matrix:\n",
            " [[1335  124]\n",
            " [  51 1407]]\n"
          ]
        }
      ]
    },
    {
      "cell_type": "markdown",
      "source": [
        "##**II. Decision Tree**"
      ],
      "metadata": {
        "id": "PnfllorrcUVu"
      }
    },
    {
      "cell_type": "code",
      "source": [
        "from sklearn import tree\n",
        "\n",
        "# Building Decision Tree model \n",
        "dt = tree.DecisionTreeClassifier(random_state=0)\n",
        "dt.fit(X_train, y_train)"
      ],
      "metadata": {
        "colab": {
          "base_uri": "https://localhost:8080/"
        },
        "id": "k6P6xdNYcTzJ",
        "outputId": "d9f6f43e-cea0-47f2-b035-2feb814fad0a"
      },
      "execution_count": 115,
      "outputs": [
        {
          "output_type": "execute_result",
          "data": {
            "text/plain": [
              "DecisionTreeClassifier(random_state=0)"
            ]
          },
          "metadata": {},
          "execution_count": 115
        }
      ]
    },
    {
      "cell_type": "code",
      "source": [
        "# Evaluating the Decision Tree Model\n",
        "dt_eval = evaluate_model(dt, X_test, y_test)\n",
        "\n",
        "# Print result\n",
        "print('Accuracy:', dt_eval['acc'])\n",
        "print('Precision:', dt_eval['prec'])\n",
        "print('Recall:', dt_eval['rec'])\n",
        "print('F1 Score:', dt_eval['f1'])\n",
        "print('Area Under Curve:', dt_eval['auc'])\n",
        "print('Confusion Matrix:\\n', dt_eval['cm'])\n",
        "\n",
        "modelAcc = dt_eval['acc']"
      ],
      "metadata": {
        "colab": {
          "base_uri": "https://localhost:8080/"
        },
        "id": "nkFMyFGycjgK",
        "outputId": "cf8e4f22-40b8-42e9-cb34-f9143dbabdcc"
      },
      "execution_count": 116,
      "outputs": [
        {
          "output_type": "stream",
          "name": "stdout",
          "text": [
            "Accuracy: 0.8992115186835791\n",
            "Precision: 0.8828947368421053\n",
            "Recall: 0.9204389574759945\n",
            "F1 Score: 0.9012760241773002\n",
            "Area Under Curve: 0.8992187933370377\n",
            "Confusion Matrix:\n",
            " [[1281  178]\n",
            " [ 116 1342]]\n"
          ]
        }
      ]
    },
    {
      "cell_type": "markdown",
      "source": [
        "##**III. Logistic Regression**"
      ],
      "metadata": {
        "id": "tWuN85iOc7pC"
      }
    },
    {
      "cell_type": "code",
      "source": [
        "from sklearn.linear_model import LogisticRegression\n",
        "\n",
        "# Building Logistic Regression model \n",
        "lr = LogisticRegression(random_state=0)\n",
        "lr.fit(X_train, y_train)"
      ],
      "metadata": {
        "colab": {
          "base_uri": "https://localhost:8080/"
        },
        "id": "Z8H326hAc_cC",
        "outputId": "e10c4630-7860-44b3-b1de-3c3efd832234"
      },
      "execution_count": 117,
      "outputs": [
        {
          "output_type": "execute_result",
          "data": {
            "text/plain": [
              "LogisticRegression(random_state=0)"
            ]
          },
          "metadata": {},
          "execution_count": 117
        }
      ]
    },
    {
      "cell_type": "code",
      "source": [
        "# Evaluating the Logistic Regression Model\n",
        "lr_eval = evaluate_model(lr, X_test, y_test)\n",
        "\n",
        "# Print result\n",
        "print('Accuracy:', lr_eval['acc'])\n",
        "print('Precision:', lr_eval['prec'])\n",
        "print('Recall:', lr_eval['rec'])\n",
        "print('F1 Score:', lr_eval['f1'])\n",
        "print('Area Under Curve:', lr_eval['auc'])\n",
        "print('Confusion Matrix:\\n', lr_eval['cm'])"
      ],
      "metadata": {
        "colab": {
          "base_uri": "https://localhost:8080/"
        },
        "id": "Da3QqrSbmqRf",
        "outputId": "fff49eba-569e-47cb-8d70-7e98a1c8f687"
      },
      "execution_count": 118,
      "outputs": [
        {
          "output_type": "stream",
          "name": "stdout",
          "text": [
            "Accuracy: 0.8004799451491258\n",
            "Precision: 0.7840466926070039\n",
            "Recall: 0.8292181069958847\n",
            "F1 Score: 0.8059999999999999\n",
            "Area Under Curve: 0.8850251642752848\n",
            "Confusion Matrix:\n",
            " [[1126  333]\n",
            " [ 249 1209]]\n"
          ]
        }
      ]
    },
    {
      "cell_type": "markdown",
      "source": [
        "##**IV. Naive Bayes**"
      ],
      "metadata": {
        "id": "uBYlQ0ho_sXV"
      }
    },
    {
      "cell_type": "code",
      "source": [
        "from sklearn.naive_bayes import GaussianNB\n",
        "\n",
        "# Building Naive Bayes model \n",
        "nb = GaussianNB()\n",
        "nb.fit(X_train, y_train)"
      ],
      "metadata": {
        "colab": {
          "base_uri": "https://localhost:8080/"
        },
        "id": "g5G1758P_uK2",
        "outputId": "0f80b2c0-4ff8-410d-c99f-a643bdd4e63a"
      },
      "execution_count": 119,
      "outputs": [
        {
          "output_type": "execute_result",
          "data": {
            "text/plain": [
              "GaussianNB()"
            ]
          },
          "metadata": {},
          "execution_count": 119
        }
      ]
    },
    {
      "cell_type": "code",
      "source": [
        "# Evaluating the Naive Bayes Model\n",
        "nb_eval = evaluate_model(nb, X_test, y_test)\n",
        "\n",
        "# Print result\n",
        "print('Accuracy:', nb_eval['acc'])\n",
        "print('Precision:', nb_eval['prec'])\n",
        "print('Recall:', nb_eval['rec'])\n",
        "print('F1 Score:', nb_eval['f1'])\n",
        "print('Area Under Curve:', nb_eval['auc'])\n",
        "print('Confusion Matrix:\\n', nb_eval['cm'])"
      ],
      "metadata": {
        "colab": {
          "base_uri": "https://localhost:8080/"
        },
        "id": "tyngbeBr_wVF",
        "outputId": "a133ff3b-5442-4679-f518-35db6e2b719f"
      },
      "execution_count": 120,
      "outputs": [
        {
          "output_type": "stream",
          "name": "stdout",
          "text": [
            "Accuracy: 0.7836818649297224\n",
            "Precision: 0.7454005934718101\n",
            "Recall: 0.8614540466392319\n",
            "F1 Score: 0.7992363983455297\n",
            "Area Under Curve: 0.8559769502195822\n",
            "Confusion Matrix:\n",
            " [[1030  429]\n",
            " [ 202 1256]]\n"
          ]
        }
      ]
    },
    {
      "cell_type": "markdown",
      "source": [
        "##**Model Comparison**"
      ],
      "metadata": {
        "id": "9ORaPLT6sZSX"
      }
    },
    {
      "cell_type": "code",
      "source": [
        "# Intitialize figure with two plots\n",
        "fig, (ax1, ax2) = plt.subplots(1, 2)\n",
        "fig.suptitle('Model Comparison', fontsize=16, fontweight='bold')\n",
        "fig.set_figheight(7)\n",
        "fig.set_figwidth(14)\n",
        "fig.set_facecolor('white')\n",
        "\n",
        "# First plot\n",
        "## set bar size\n",
        "barWidth = 0.2\n",
        "rf_score = [rf_eval['acc'], rf_eval['prec'], rf_eval['rec'], rf_eval['f1']]\n",
        "dt_score = [dt_eval['acc'], dt_eval['prec'], dt_eval['rec'], dt_eval['f1']]\n",
        "lr_score = [lr_eval['acc'], lr_eval['prec'], lr_eval['rec'], lr_eval['f1']]\n",
        "nb_score = [nb_eval['acc'], nb_eval['prec'], nb_eval['rec'], nb_eval['f1']]\n",
        "\n",
        "## Set position of bar on x axis\n",
        "r1 = np.arange(len(lr_score))\n",
        "r2 = [x + barWidth for x in r1]\n",
        "r3 = [x + barWidth for x in r2]\n",
        "r4 = [x + barWidth for x in r3]\n",
        "\n",
        "## Make the plot\n",
        "ax1.bar(r2, rf_score, width=barWidth, edgecolor='white', label='Random Forest')\n",
        "ax1.bar(r1, dt_score, width=barWidth, edgecolor='white', label='Decision Tree')\n",
        "ax1.bar(r3, lr_score, width=barWidth, edgecolor='white', label='Logistic Regression')\n",
        "ax1.bar(r4, nb_score, width=barWidth, edgecolor='white', label='Naive Bayes')\n",
        "\n",
        "## Configure x and y axis\n",
        "ax1.set_xlabel('Metrics', fontweight='bold')\n",
        "labels = ['Accuracy', 'Precision', 'Recall', 'F1']\n",
        "ax1.set_xticks([r + (barWidth * 1.5) for r in range(len(lr_score))], )\n",
        "ax1.set_xticklabels(labels)\n",
        "ax1.set_ylabel('Score', fontweight='bold')\n",
        "ax1.set_ylim(0, 1)\n",
        "\n",
        "## Create legend & title\n",
        "ax1.set_title('Evaluation Metrics', fontsize=14, fontweight='bold')\n",
        "ax1.legend()\n",
        "\n",
        "# Second plot\n",
        "## Comparing ROC Curve\n",
        "ax2.plot([0, 1], [0, 1], color='orange', linestyle='--')\n",
        "ax2.plot(rf_eval['fpr'], rf_eval['tpr'], label='Random Forest, auc = {:0.5f}'.format(rf_eval['auc']))\n",
        "ax2.plot(dt_eval['fpr'], dt_eval['tpr'], label='Decision Tree, auc = {:0.5f}'.format(dt_eval['auc']))\n",
        "ax2.plot(lr_eval['fpr'], lr_eval['tpr'], label='Logistic Regression, auc = {:0.5f}'.format(lr_eval['auc']))\n",
        "ax2.plot(nb_eval['fpr'], nb_eval['tpr'], label='Naive Bayes, auc = {:0.5f}'.format(nb_eval['auc']))\n",
        "\n",
        "## Configure x and y axis\n",
        "ax2.set_xlabel('False Positive Rate', fontweight='bold')\n",
        "ax2.set_ylabel('True Positive Rate', fontweight='bold')\n",
        "\n",
        "## Create legend & title\n",
        "ax2.set_title('ROC Curve', fontsize=14, fontweight='bold')\n",
        "ax2.legend(loc=4)\n",
        "\n",
        "plt.show()"
      ],
      "metadata": {
        "colab": {
          "base_uri": "https://localhost:8080/",
          "height": 493
        },
        "id": "zj9YNnSSsbZf",
        "outputId": "79cabca4-4e50-4788-a92a-b477a3fcdb51"
      },
      "execution_count": 121,
      "outputs": [
        {
          "output_type": "display_data",
          "data": {
            "text/plain": [
              "<Figure size 1008x504 with 2 Axes>"
            ],
            "image/png": "[encoded data removed]"
          },
          "metadata": {}
        }
      ]
    },
    {
      "cell_type": "markdown",
      "source": [
        "# **4. OUTPUT**"
      ],
      "metadata": {
        "id": "oAuwQCMiHaM0"
      }
    },
    {
      "cell_type": "code",
      "source": [
        "#Saving the model\n",
        "import joblib\n",
        "\n",
        "stroke_pred_classification = {\n",
        "    'model': dt,\n",
        "}\n",
        "\n",
        "\n",
        "joblib.dump(stroke_pred_classification, 'stroke_pred_classification.joblib')"
      ],
      "metadata": {
        "id": "p4fK5FxRLJZ3",
        "colab": {
          "base_uri": "https://localhost:8080/"
        },
        "outputId": "551d4ec0-6c0a-419f-9ae9-e9c871cbb935"
      },
      "execution_count": 122,
      "outputs": [
        {
          "output_type": "execute_result",
          "data": {
            "text/plain": [
              "['stroke_pred_classification.joblib']"
            ]
          },
          "metadata": {},
          "execution_count": 122
        }
      ]
    }
  ]
}